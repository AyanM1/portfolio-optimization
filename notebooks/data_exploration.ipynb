{
 "cells": [
  {
   "cell_type": "markdown",
   "id": "0a46bd0c",
   "metadata": {},
   "source": [
    "# Data Exploration\n",
    "This notebook loads sample portfolio data, computes daily returns, and visualizes their distribution and correlations."
   ]
  },
  {
   "cell_type": "code",
   "execution_count": null,
   "id": "2c626f34",
   "metadata": {},
   "outputs": [],
   "source": [
    "# Import required libraries\n",
    "import pandas as pd\n",
    "import numpy as np\n",
    "import matplotlib.pyplot as plt\n",
    "import plotly.express as px\n",
    "from src.data_handler import download_price_data, calculate_returns"
   ]
  },
  {
   "cell_type": "code",
   "execution_count": null,
   "id": "90677f83",
   "metadata": {},
   "outputs": [],
   "source": [
    "# Load sample data from CSV\n",
    "data = pd.read_csv('../data/sample_portfolios.csv')\n",
    "data.head()"
   ]
  },
  {
   "cell_type": "code",
   "execution_count": null,
   "id": "04a458c6",
   "metadata": {},
   "outputs": [],
   "source": [
    "# Example: Download price data for tickers\n",
    "tickers = ['AAPL', 'MSFT', 'GOOGL', 'AMZN']\n",
    "prices = download_price_data(tickers, start='2022-01-01', end='2022-12-31')\n",
    "prices.head()"
   ]
  },
  {
   "cell_type": "code",
   "execution_count": null,
   "id": "b48e30e7",
   "metadata": {},
   "outputs": [],
   "source": [
    "# Compute daily returns and visualize distribution\n",
    "returns = calculate_returns(prices)\n",
    "returns.plot(kind='hist', bins=50, alpha=0.7)\n",
    "plt.title('Distribution of Daily Returns')\n",
    "plt.xlabel('Return')\n",
    "plt.show()"
   ]
  },
  {
   "cell_type": "code",
   "execution_count": null,
   "id": "668d7987",
   "metadata": {},
   "outputs": [],
   "source": [
    "# Display correlation matrix heatmap\n",
    "import plotly.express as px\n",
    "fig = px.imshow(returns.corr(), text_auto=True, color_continuous_scale='Viridis', title='Correlation Matrix Heatmap')\n",
    "fig.show()"
   ]
  }
 ],
 "metadata": {
  "language_info": {
   "name": "python"
  }
 },
 "nbformat": 4,
 "nbformat_minor": 5
}
